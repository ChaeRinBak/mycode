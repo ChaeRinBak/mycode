{
 "cells": [
  {
   "cell_type": "code",
   "execution_count": 62,
   "id": "7dd6b47c",
   "metadata": {
    "scrolled": true
   },
   "outputs": [
    {
     "data": {
      "text/plain": [
       "['>Rosalind_6404',\n",
       " 'CCTGCGGAAGATCGGCACTAGAATAGCCAGAACCGTTTCTCTGAGGCTTCCGGCCTTCCC',\n",
       " 'TCCCACTAATAATTCTGAGG',\n",
       " '>Rosalind_5959',\n",
       " 'CCATCGGTAGCGCATCCTTAGTCCAATTAAGTCCCTATCCAGGCGCTCCGCCGAAGGTCT',\n",
       " 'ATATCCATTTGTCAGCAGACACGC',\n",
       " '>Rosalind_0808',\n",
       " 'CCACCCTCGTGGTATGGCTAGGCATTCAGGAACCGGAGAACGCTTCAGACCAGCCCGGAC',\n",
       " 'TGGGAACCTGCGGGCAGTAGGTGGAAT']"
      ]
     },
     "execution_count": 62,
     "metadata": {},
     "output_type": "execute_result"
    }
   ],
   "source": [
    "inp='''>Rosalind_6404\n",
    "CCTGCGGAAGATCGGCACTAGAATAGCCAGAACCGTTTCTCTGAGGCTTCCGGCCTTCCC\n",
    "TCCCACTAATAATTCTGAGG\n",
    ">Rosalind_5959\n",
    "CCATCGGTAGCGCATCCTTAGTCCAATTAAGTCCCTATCCAGGCGCTCCGCCGAAGGTCT\n",
    "ATATCCATTTGTCAGCAGACACGC\n",
    ">Rosalind_0808\n",
    "CCACCCTCGTGGTATGGCTAGGCATTCAGGAACCGGAGAACGCTTCAGACCAGCCCGGAC\n",
    "TGGGAACCTGCGGGCAGTAGGTGGAAT'''\n",
    "\n",
    "\n",
    "inp.count(\">\")\n",
    "\n",
    "inp.split()"
   ]
  },
  {
   "cell_type": "code",
   "execution_count": 111,
   "id": "335240df",
   "metadata": {},
   "outputs": [],
   "source": [
    "#inp=input()\n",
    "lists=[]\n",
    "idxlists=[]\n",
    "n=0\n",
    "x=0\n",
    "\n",
    "for line in inp.split():\n",
    "    if \">\" in line :\n",
    "        lists.append(line.strip(\">\"))\n",
    "        idxlists.append(x)\n",
    "    \n",
    "    x+=1"
   ]
  },
  {
   "cell_type": "code",
   "execution_count": 112,
   "id": "a519ffc4",
   "metadata": {},
   "outputs": [
    {
     "data": {
      "text/plain": [
       "[0, 16, 34, 50, 67, 84, 101, 117, 135, 151]"
      ]
     },
     "execution_count": 112,
     "metadata": {},
     "output_type": "execute_result"
    }
   ],
   "source": [
    "idxlists.append(len(inp.split())-1)\n",
    "idxlists"
   ]
  },
  {
   "cell_type": "code",
   "execution_count": 113,
   "id": "114d89aa",
   "metadata": {},
   "outputs": [
    {
     "data": {
      "text/plain": [
       "['Rosalind_6268',\n",
       " 'Rosalind_7578',\n",
       " 'Rosalind_2824',\n",
       " 'Rosalind_5544',\n",
       " 'Rosalind_4577',\n",
       " 'Rosalind_0037',\n",
       " 'Rosalind_9689',\n",
       " 'Rosalind_0060',\n",
       " 'Rosalind_2779']"
      ]
     },
     "execution_count": 113,
     "metadata": {},
     "output_type": "execute_result"
    }
   ],
   "source": [
    "lists"
   ]
  },
  {
   "cell_type": "code",
   "execution_count": 114,
   "id": "caca47dc",
   "metadata": {},
   "outputs": [
    {
     "name": "stdout",
     "output_type": "stream",
     "text": [
      "Rosalind_0037\n",
      "51.65421558164355\n"
     ]
    }
   ],
   "source": [
    "GClists=[]\n",
    "tempGC=''\n",
    "gccnt=0\n",
    "atcnt=0\n",
    "\n",
    "for a in range(len(lists)) :\n",
    "    for b in range(idxlists[a]+1,idxlists[a+1]) :\n",
    "        tempGC+=inp.split()[b]\n",
    "    #print(tempGC)\n",
    "    \n",
    "    for c in tempGC :\n",
    "        if c==\"G\" or c==\"C\" :\n",
    "            gccnt+=1\n",
    "        else :\n",
    "            atcnt+=1\n",
    "    GClists.append(gccnt/(gccnt+atcnt)*100)\n",
    "    tempGC=''\n",
    "    gccnt=0\n",
    "    atcnt=0\n",
    "\n",
    "\n",
    "idx=GClists.index(max(GClists))\n",
    "print(lists[idx])\n",
    "print(GClists[idx])"
   ]
  },
  {
   "cell_type": "code",
   "execution_count": 115,
   "id": "6b196585",
   "metadata": {},
   "outputs": [
    {
     "data": {
      "text/plain": [
       "[50.76923076923077,\n",
       " 47.50254841997961,\n",
       " 50.0,\n",
       " 50.110132158590304,\n",
       " 51.40388768898488,\n",
       " 51.65421558164355,\n",
       " 49.59159859976663,\n",
       " 48.40041279669763,\n",
       " 48.77777777777778]"
      ]
     },
     "execution_count": 115,
     "metadata": {},
     "output_type": "execute_result"
    }
   ],
   "source": [
    "GClists"
   ]
  },
  {
   "cell_type": "code",
   "execution_count": null,
   "id": "fbb05755",
   "metadata": {},
   "outputs": [],
   "source": []
  }
 ],
 "metadata": {
  "kernelspec": {
   "display_name": "Python 3 (ipykernel)",
   "language": "python",
   "name": "python3"
  },
  "language_info": {
   "codemirror_mode": {
    "name": "ipython",
    "version": 3
   },
   "file_extension": ".py",
   "mimetype": "text/x-python",
   "name": "python",
   "nbconvert_exporter": "python",
   "pygments_lexer": "ipython3",
   "version": "3.8.16"
  }
 },
 "nbformat": 4,
 "nbformat_minor": 5
}
