{
 "cells": [
  {
   "cell_type": "code",
   "execution_count": null,
   "id": "0c99e06f",
   "metadata": {},
   "outputs": [],
   "source": [
    "E(X)=시그마k=1부터n까지  k * Pr(X=k)"
   ]
  },
  {
   "cell_type": "code",
   "execution_count": 3,
   "id": "52bdaec0",
   "metadata": {},
   "outputs": [
    {
     "name": "stdout",
     "output_type": "stream",
     "text": [
      "18660 19243 17067 17572 19860 16584\n",
      "156158.0\n"
     ]
    }
   ],
   "source": [
    "o=2\n",
    "\n",
    "n1,n2,n3,n4,n5,n6=map(int,input().split())\n",
    "\n",
    "res=n1*1*o + n2*1*o + n3*1*o + n4*(3/4)*o + n5*(1/2)*o + n6*(0)*o\n",
    "\n",
    "print(res)\n"
   ]
  }
 ],
 "metadata": {
  "kernelspec": {
   "display_name": "Python 3 (ipykernel)",
   "language": "python",
   "name": "python3"
  },
  "language_info": {
   "codemirror_mode": {
    "name": "ipython",
    "version": 3
   },
   "file_extension": ".py",
   "mimetype": "text/x-python",
   "name": "python",
   "nbconvert_exporter": "python",
   "pygments_lexer": "ipython3",
   "version": "3.8.16"
  }
 },
 "nbformat": 4,
 "nbformat_minor": 5
}
