{
 "cells": [
  {
   "cell_type": "code",
   "execution_count": 186,
   "id": "a1e05256",
   "metadata": {},
   "outputs": [],
   "source": [
    "#f=open(\"C:\\\\Users\\\\cofls\\\\Downloads\\\\testtest.txt\",\"r\")\n",
    "f=open(\"C:\\\\Users\\\\cofls\\\\Downloads\\\\rosalind_lcsm.txt\",\"r\")\n",
    "\n",
    "datas=[]\n",
    "names=[]\n",
    "\n",
    "tempdata=''\n",
    "for i in f.readlines() :\n",
    "    if \">\" not in i :\n",
    "        tempdata+=i.strip()\n",
    "    else :\n",
    "        datas.append(tempdata)\n",
    "        tempdata=''\n",
    "        names.append(i.strip().strip(\">\"))\n",
    "datas.append(tempdata)\n",
    "tempdata=''\n",
    "del datas[0]\n",
    "\n",
    "f.close()"
   ]
  },
  {
   "cell_type": "code",
   "execution_count": 187,
   "id": "01966b4c",
   "metadata": {},
   "outputs": [
    {
     "data": {
      "text/plain": [
       "100"
      ]
     },
     "execution_count": 187,
     "metadata": {},
     "output_type": "execute_result"
    }
   ],
   "source": [
    "#datas=datas[:3]\n",
    "#datas=datas[3:]\n",
    "len(datas)\n",
    "#print(datas)"
   ]
  },
  {
   "cell_type": "code",
   "execution_count": 188,
   "id": "ed34ed68",
   "metadata": {},
   "outputs": [
    {
     "data": {
      "text/plain": [
       "41602"
      ]
     },
     "execution_count": 188,
     "metadata": {},
     "output_type": "execute_result"
    }
   ],
   "source": [
    "res=[]\n",
    "cdlist=[]\n",
    "tempcd=''\n",
    "dd=len(datas[0])\n",
    "minnt=2\n",
    "maxnt=500\n",
    "\n",
    "for i in range(len(datas[0])) :\n",
    "    for j in range(minnt,maxnt) :\n",
    "        if i+j>len(datas[0]) :\n",
    "            break\n",
    "        if datas[0][i:i+j] in datas[1] :\n",
    "            cdlist.append(datas[0][i:i+j])\n",
    "            \n",
    "\n",
    "len(cdlist)"
   ]
  },
  {
   "cell_type": "code",
   "execution_count": null,
   "id": "e86fad66",
   "metadata": {},
   "outputs": [],
   "source": []
  },
  {
   "cell_type": "code",
   "execution_count": 189,
   "id": "d8d3641f",
   "metadata": {},
   "outputs": [],
   "source": [
    "cdlist=set(cdlist)  # 중복 제거\n",
    "cdlist=list(cdlist)\n",
    "\n",
    "res=cdlist.copy()"
   ]
  },
  {
   "cell_type": "code",
   "execution_count": 190,
   "id": "09c8352f",
   "metadata": {},
   "outputs": [
    {
     "data": {
      "text/plain": [
       "37334"
      ]
     },
     "execution_count": 190,
     "metadata": {},
     "output_type": "execute_result"
    }
   ],
   "source": [
    "ds=[]\n",
    "ds=set(ds)\n",
    "\n",
    "for x in cdlist :\n",
    "    #print(\"x: \", cdlist[x])\n",
    "    for nts in datas :\n",
    "        #print(\"nts: \",nts)\n",
    "        \n",
    "        if x not in nts :\n",
    "            #print(\"del x: \",x)\n",
    "            del res[res.index(x)]\n",
    "            break\n",
    "            \n",
    "len(res)"
   ]
  },
  {
   "cell_type": "code",
   "execution_count": 191,
   "id": "5fffbbf3",
   "metadata": {
    "scrolled": true
   },
   "outputs": [
    {
     "name": "stdout",
     "output_type": "stream",
     "text": [
      "38595\n"
     ]
    }
   ],
   "source": [
    "print(len(cdlist))\n",
    "#cdlist"
   ]
  },
  {
   "cell_type": "code",
   "execution_count": 192,
   "id": "98246ab9",
   "metadata": {
    "scrolled": true
   },
   "outputs": [
    {
     "name": "stdout",
     "output_type": "stream",
     "text": [
      "37334\n"
     ]
    }
   ],
   "source": [
    "print(len(res))\n",
    "#res"
   ]
  },
  {
   "cell_type": "code",
   "execution_count": 193,
   "id": "d561ebf4",
   "metadata": {},
   "outputs": [
    {
     "name": "stdout",
     "output_type": "stream",
     "text": [
      "['CTCAACTCAAAAGGACGTGACGACCACGCACTATGTGTTTTCTTGATGCACACAAGATATACAAAAATTATCTACCACTTCGGGTCGTGAACGTAGACACCAGGCACCAATTCGTCATCCGCGTCGGGCGCACACTTCCCTTAAGGCCATTGTTAAAAGAACGGAGGTATGGATTCGCCATCAGTTAAATAGGCCAGGAAATTCTATACAGGGGTGATTATACCGAGAGGTGCCAGAGATCTCATGCTGAATCCCCAGAGACTACGTCGAACATCC']\n"
     ]
    },
    {
     "data": {
      "text/plain": [
       "276"
      ]
     },
     "execution_count": 193,
     "metadata": {},
     "output_type": "execute_result"
    }
   ],
   "source": [
    "resl=[]\n",
    "for r in res :\n",
    "    resl.append(len(r))\n",
    "m=max(resl)\n",
    "\n",
    "rres=[]\n",
    "for rr in res :\n",
    "    if len(rr)==m :\n",
    "        rres.append(rr)\n",
    "    \n",
    "print(rres)\n",
    "len(rres[0])"
   ]
  },
  {
   "cell_type": "code",
   "execution_count": null,
   "id": "9ad8c02b",
   "metadata": {},
   "outputs": [],
   "source": []
  },
  {
   "cell_type": "code",
   "execution_count": null,
   "id": "77d85ca3",
   "metadata": {},
   "outputs": [],
   "source": []
  }
 ],
 "metadata": {
  "kernelspec": {
   "display_name": "Python 3 (ipykernel)",
   "language": "python",
   "name": "python3"
  },
  "language_info": {
   "codemirror_mode": {
    "name": "ipython",
    "version": 3
   },
   "file_extension": ".py",
   "mimetype": "text/x-python",
   "name": "python",
   "nbconvert_exporter": "python",
   "pygments_lexer": "ipython3",
   "version": "3.8.16"
  }
 },
 "nbformat": 4,
 "nbformat_minor": 5
}
