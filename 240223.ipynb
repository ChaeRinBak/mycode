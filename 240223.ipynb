{
 "cells": [
  {
   "cell_type": "code",
   "execution_count": 1,
   "id": "b84d5194",
   "metadata": {
    "collapsed": true
   },
   "outputs": [
    {
     "name": "stdout",
     "output_type": "stream",
     "text": [
      "UUU F      CUU L      AUU I      GUU V UUC F      CUC L      AUC I      GUC V UUA L      CUA L      AUA I      GUA V UUG L      CUG L      AUG M      GUG V UCU S      CCU P      ACU T      GCU A UCC S      CCC P      ACC T      GCC A UCA S      CCA P      ACA T      GCA A UCG S      CCG P      ACG T      GCG A UAU Y      CAU H      AAU N      GAU D UAC Y      CAC H      AAC N      GAC D UAA Stop   CAA Q      AAA K      GAA E UAG Stop   CAG Q      AAG K      GAG E UGU C      CGU R      AGU S      GGU G UGC C      CGC R      AGC S      GGC G UGA Stop   CGA R      AGA R      GGA G UGG W      CGG R      AGG R      GGG G\n"
     ]
    },
    {
     "data": {
      "text/plain": [
       "{'UUU': 'F',\n",
       " 'CUU': 'L',\n",
       " 'AUU': 'I',\n",
       " 'GUU': 'V',\n",
       " 'UUC': 'F',\n",
       " 'CUC': 'L',\n",
       " 'AUC': 'I',\n",
       " 'GUC': 'V',\n",
       " 'UUA': 'L',\n",
       " 'CUA': 'L',\n",
       " 'AUA': 'I',\n",
       " 'GUA': 'V',\n",
       " 'UUG': 'L',\n",
       " 'CUG': 'L',\n",
       " 'AUG': 'M',\n",
       " 'GUG': 'V',\n",
       " 'UCU': 'S',\n",
       " 'CCU': 'P',\n",
       " 'ACU': 'T',\n",
       " 'GCU': 'A',\n",
       " 'UCC': 'S',\n",
       " 'CCC': 'P',\n",
       " 'ACC': 'T',\n",
       " 'GCC': 'A',\n",
       " 'UCA': 'S',\n",
       " 'CCA': 'P',\n",
       " 'ACA': 'T',\n",
       " 'GCA': 'A',\n",
       " 'UCG': 'S',\n",
       " 'CCG': 'P',\n",
       " 'ACG': 'T',\n",
       " 'GCG': 'A',\n",
       " 'UAU': 'Y',\n",
       " 'CAU': 'H',\n",
       " 'AAU': 'N',\n",
       " 'GAU': 'D',\n",
       " 'UAC': 'Y',\n",
       " 'CAC': 'H',\n",
       " 'AAC': 'N',\n",
       " 'GAC': 'D',\n",
       " 'UAA': 'Stop',\n",
       " 'CAA': 'Q',\n",
       " 'AAA': 'K',\n",
       " 'GAA': 'E',\n",
       " 'UAG': 'Stop',\n",
       " 'CAG': 'Q',\n",
       " 'AAG': 'K',\n",
       " 'GAG': 'E',\n",
       " 'UGU': 'C',\n",
       " 'CGU': 'R',\n",
       " 'AGU': 'S',\n",
       " 'GGU': 'G',\n",
       " 'UGC': 'C',\n",
       " 'CGC': 'R',\n",
       " 'AGC': 'S',\n",
       " 'GGC': 'G',\n",
       " 'UGA': 'Stop',\n",
       " 'CGA': 'R',\n",
       " 'AGA': 'R',\n",
       " 'GGA': 'G',\n",
       " 'UGG': 'W',\n",
       " 'CGG': 'R',\n",
       " 'AGG': 'R',\n",
       " 'GGG': 'G'}"
      ]
     },
     "execution_count": 1,
     "metadata": {},
     "output_type": "execute_result"
    }
   ],
   "source": [
    "codonstring=input()\n",
    "codonstring=codonstring.strip().split()\n",
    "\n",
    "codon={}\n",
    "\n",
    "for a in range(0,len(codonstring),2) :\n",
    "    codon[codonstring[a]]=codonstring[a+1]\n",
    "    \n",
    "codon"
   ]
  },
  {
   "cell_type": "code",
   "execution_count": 23,
   "id": "a340747b",
   "metadata": {},
   "outputs": [],
   "source": [
    "#f=open(\"C:\\\\Users\\\\cofls\\\\Downloads\\\\testtest.txt\",\"r\")\n",
    "f=open(\"C:\\\\Users\\\\cofls\\\\Downloads\\\\rosalind_mrna (1).txt\",\"r\")\n",
    "\n",
    "inp=''\n",
    "\n",
    "for i in f.readlines() :\n",
    "    inp+=i.strip()\n",
    "    \n",
    "f.close()"
   ]
  },
  {
   "cell_type": "code",
   "execution_count": 24,
   "id": "f6f1e3d7",
   "metadata": {},
   "outputs": [
    {
     "data": {
      "text/plain": [
       "'MNASFSLIFNYWFHNPEIYPTMCETRQEMWGVSRAIFSLLIENSDWSNHMWFGTSADFDLARMKMEMESAYDPPGVDHLETEKDVWSPFSGHVDQCYGSRYFCWILEIPSHNCAHYIGKCVPKLMYQVLMVFYPGHGRKAWNSSNMAREWKRPTFTPMDEEIEPNDFPNEPCHHMARGPEHFGMCGFAKAGIVLWSHPFDRQRCLQWPMPVADATHCLMHVTMMKWREMHRFQHGDRLWPQVFDEWQPKSFCYCECVPWLVMGSWVHQKNNGALFNLCFFSKCMKWAINPSLISWWRYWYESNPTDGMFFNTAAFESESRQQWKLIIHWVSERYENETWCQNVKNIRDEDMAIDEEWRKDITDLVEVKWGGRNLCHFGVVYYPVKLTHYHKLFSKGHLWDCTLHKLTKPVNPYATWYYRWTDDNLKGQMHRKAQAHHSRSQWLPNQFQRNPPADRKTISPQGLMWFLIQIVRSNTMANCALKSPLALPQRHGGHDTIPLMYNNNSVDGHETRCEHCVNCYTCFALVAHLEEEMLLPNMACDGLDNDKEFHVWCSGIIYCWTSVQIVCANLWFEFVFNVKRAEYHGKNEPHQNYWGLMPSLWRYAANRTQLNDPSGMLQMYFVIPGTMFMTAQEFLLMDYRFPYHEVPEKCRFFWVNEKMGWKIHKWCYLDSLFMSRYFFVADPVFDIGDGLYRFMNHGTFGMDAVYGSQWLDIEAFNWVSWDMDVQWFGKFYMEPDEAVDWHCRCNHWWLEHTFTTEEYMRCYDTEEYCCFHYHGWLTLPSYQSNDTQQDHCVWENIHNYLTGFLRECNYTITWQTQKNFMVEVMGFCYGMKMHWDVRQEWHMDEPMSFVHNGLMRMWKSERAACLAYPQHHWIDGTRRSVHSCYQATFFASGECTMCFSAKNMMFCHYYPAIWFYLATHQGLLYYGHNLERTAAFSIQNLDIRLSWLGGHAHSEGERNPECCDRVSDALCCMDFSNKAMGLKWYENHEDKRAQCQFLS'"
      ]
     },
     "execution_count": 24,
     "metadata": {},
     "output_type": "execute_result"
    }
   ],
   "source": [
    "inp"
   ]
  },
  {
   "cell_type": "code",
   "execution_count": 28,
   "id": "1a73b053",
   "metadata": {},
   "outputs": [],
   "source": [
    "res=1\n",
    "temp=0\n",
    "\n",
    "for aa in inp :\n",
    "    for c in codon.items() :\n",
    "        #print(c)\n",
    "        if aa==c[1] :\n",
    "            temp+=1\n",
    "            #print(temp,c[1])\n",
    "    res*=temp\n",
    "    temp=0\n",
    "    \n",
    "for cc in codon.items() :\n",
    "    if \"Stop\"==cc[1] :\n",
    "        temp+=1\n",
    "        #print(temp,cc[1])\n",
    "res*=temp\n",
    "temp=0"
   ]
  },
  {
   "cell_type": "code",
   "execution_count": 26,
   "id": "8c9ba467",
   "metadata": {},
   "outputs": [
    {
     "data": {
      "text/plain": [
       "37581571915108399500173023196070406340118490821701826360510938071737325125336325950544126480477095007350538127003823864638437758408950688068398353304578594874222516909175437714354955841020414459364529968090991065847808224817897525663872913956623743421725946067122345301149747970060352913841219197860780157739085157090041508395289814480641125902541345086017673356952247441440078562386431931379580787383076886423713867477549056"
      ]
     },
     "execution_count": 26,
     "metadata": {},
     "output_type": "execute_result"
    }
   ],
   "source": [
    "res"
   ]
  },
  {
   "cell_type": "code",
   "execution_count": 27,
   "id": "04c85325",
   "metadata": {},
   "outputs": [
    {
     "name": "stdout",
     "output_type": "stream",
     "text": [
      "549056\n"
     ]
    }
   ],
   "source": [
    "print(res%1000000)"
   ]
  },
  {
   "cell_type": "code",
   "execution_count": null,
   "id": "ad5ef4ec",
   "metadata": {},
   "outputs": [],
   "source": []
  }
 ],
 "metadata": {
  "kernelspec": {
   "display_name": "Python 3 (ipykernel)",
   "language": "python",
   "name": "python3"
  },
  "language_info": {
   "codemirror_mode": {
    "name": "ipython",
    "version": 3
   },
   "file_extension": ".py",
   "mimetype": "text/x-python",
   "name": "python",
   "nbconvert_exporter": "python",
   "pygments_lexer": "ipython3",
   "version": "3.8.16"
  }
 },
 "nbformat": 4,
 "nbformat_minor": 5
}
