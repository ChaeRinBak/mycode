{
 "cells": [
  {
   "cell_type": "code",
   "execution_count": 19,
   "id": "1beb1b38",
   "metadata": {},
   "outputs": [
    {
     "name": "stdout",
     "output_type": "stream",
     "text": [
      "5 3\n",
      "24\n"
     ]
    }
   ],
   "source": [
    "n,k=map(int,input().split())\n",
    "\n",
    "flist=[k,k]\n",
    "\n",
    "for nn in range(2,n+1) :\n",
    "    flist.append(flist[nn-1]+flist[nn-2])\n",
    "\n",
    "print(flist[n])"
   ]
  },
  {
   "cell_type": "code",
   "execution_count": 33,
   "id": "9729b7cc",
   "metadata": {},
   "outputs": [
    {
     "name": "stdout",
     "output_type": "stream",
     "text": [
      "[1, 1, 4, 7, 19, 40]\n",
      "[0, 1, 1, 4, 7, 19]\n",
      "[1, 0, 3, 3, 12, 21]\n"
     ]
    }
   ],
   "source": [
    "print(fall)\n",
    "print(fm)\n",
    "print(funm)"
   ]
  },
  {
   "cell_type": "code",
   "execution_count": 35,
   "id": "4b2ea91f",
   "metadata": {},
   "outputs": [
    {
     "name": "stdout",
     "output_type": "stream",
     "text": [
      "36 3\n",
      "3048504677680\n"
     ]
    }
   ],
   "source": [
    "n,k=map(int,input().split())\n",
    "\n",
    "fall=[1,1]\n",
    "fm=[0,1]\n",
    "funm=[1,0]\n",
    "\n",
    "for nn in range(2,n+1) :\n",
    "    fm.append(fall[nn-1])\n",
    "    funm.append(fm[nn-1]*k)\n",
    "    fall.append(fm[nn]+funm[nn])  \n",
    "\n",
    "print(fall[n-1])"
   ]
  },
  {
   "cell_type": "code",
   "execution_count": null,
   "id": "362142e6",
   "metadata": {},
   "outputs": [],
   "source": [
    "5세대\n",
    "\n",
    "1세대 - 1\n",
    "2세대 - k\n",
    "3세대 - k\n",
    "\n",
    "3세대\n",
    "fm[3]=1=fm[2]\n",
    "funm[3]=3=fm[2]*k\n",
    "\n",
    "4세대\n",
    "fm[4]=1+3=funfunm[3]\n",
    "funm[4]=1*3=fm[3]*k\n",
    "\n",
    "5세대\n",
    "fm[5]=\n",
    "funm[5]=f\n",
    "\n",
    "fm[2]=1\n",
    "funm[2]=0\n",
    "fall[2]=1+0=1\n",
    "\n",
    "fm[3]=fall[2]\n",
    "funm[3]=fm[2]*k\n",
    "fall[3]=fm[3]+fnum[3]\n",
    "\n",
    "fm[4]=fall[3]"
   ]
  },
  {
   "cell_type": "code",
   "execution_count": null,
   "id": "70421ca6",
   "metadata": {},
   "outputs": [],
   "source": [
    "# 이건 아님 ㄱ-\n",
    "'''\n",
    "def f(n) :\n",
    "    if n==1 :\n",
    "        return 1\n",
    "    elif n==2 :\n",
    "        return 1\n",
    "    return f(n-1)+f(n-2)'''"
   ]
  }
 ],
 "metadata": {
  "kernelspec": {
   "display_name": "Python 3 (ipykernel)",
   "language": "python",
   "name": "python3"
  },
  "language_info": {
   "codemirror_mode": {
    "name": "ipython",
    "version": 3
   },
   "file_extension": ".py",
   "mimetype": "text/x-python",
   "name": "python",
   "nbconvert_exporter": "python",
   "pygments_lexer": "ipython3",
   "version": "3.8.16"
  }
 },
 "nbformat": 4,
 "nbformat_minor": 5
}
