{
 "cells": [
  {
   "cell_type": "code",
   "execution_count": 47,
   "id": "c1c749b5",
   "metadata": {},
   "outputs": [
    {
     "name": "stdout",
     "output_type": "stream",
     "text": [
      "96 18\n",
      "51362134734569917378\n"
     ]
    }
   ],
   "source": [
    "n,m=map(int,input().split())\n",
    "k=1\n",
    "\n",
    "fall=[1,1]\n",
    "fm=[0,1]\n",
    "funm=[1,0]\n",
    "\n",
    "for nn in range(2,n+1) :\n",
    "    if nn<m :  # 사망 시작 전\n",
    "        fm.append(fall[nn-1])\n",
    "    else :  # 사망 시작 후\n",
    "        fm.append(fall[nn-1]-funm[nn-m])\n",
    "        \n",
    "    funm.append(fm[nn-1]*k)\n",
    "    fall.append(fm[nn]+funm[nn])\n",
    "\n",
    "print(fall[n-1])\n",
    "\n",
    "#print(fall)\n",
    "#print(fm)\n",
    "#print(funm)"
   ]
  },
  {
   "cell_type": "code",
   "execution_count": null,
   "id": "d0324a4b",
   "metadata": {},
   "outputs": [],
   "source": []
  }
 ],
 "metadata": {
  "kernelspec": {
   "display_name": "Python 3 (ipykernel)",
   "language": "python",
   "name": "python3"
  },
  "language_info": {
   "codemirror_mode": {
    "name": "ipython",
    "version": 3
   },
   "file_extension": ".py",
   "mimetype": "text/x-python",
   "name": "python",
   "nbconvert_exporter": "python",
   "pygments_lexer": "ipython3",
   "version": "3.8.16"
  }
 },
 "nbformat": 4,
 "nbformat_minor": 5
}
