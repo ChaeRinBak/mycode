{
 "cells": [
  {
   "cell_type": "code",
   "execution_count": 1,
   "id": "2b7d2a61",
   "metadata": {},
   "outputs": [
    {
     "name": "stdout",
     "output_type": "stream",
     "text": [
      "A   71.03711 C   103.00919 D   115.02694 E   129.04259 F   147.06841 G   57.02146 H   137.05891 I   113.08406 K   128.09496 L   113.08406 M   131.04049 N   114.04293 P   97.05276 Q   128.05858 R   156.10111 S   87.03203 T   101.04768 V   99.06841 W   186.07931 Y   163.06333 \n"
     ]
    }
   ],
   "source": [
    "dals=input().strip().split()"
   ]
  },
  {
   "cell_type": "code",
   "execution_count": 5,
   "id": "b9ccb283",
   "metadata": {},
   "outputs": [],
   "source": [
    "aa={}\n",
    "for i in range(1,len(dals),2) :\n",
    "    aa[dals[i-1]]=float(dals[i])"
   ]
  },
  {
   "cell_type": "code",
   "execution_count": 6,
   "id": "637e0d91",
   "metadata": {},
   "outputs": [
    {
     "data": {
      "text/plain": [
       "{'A': 71.03711,\n",
       " 'C': 103.00919,\n",
       " 'D': 115.02694,\n",
       " 'E': 129.04259,\n",
       " 'F': 147.06841,\n",
       " 'G': 57.02146,\n",
       " 'H': 137.05891,\n",
       " 'I': 113.08406,\n",
       " 'K': 128.09496,\n",
       " 'L': 113.08406,\n",
       " 'M': 131.04049,\n",
       " 'N': 114.04293,\n",
       " 'P': 97.05276,\n",
       " 'Q': 128.05858,\n",
       " 'R': 156.10111,\n",
       " 'S': 87.03203,\n",
       " 'T': 101.04768,\n",
       " 'V': 99.06841,\n",
       " 'W': 186.07931,\n",
       " 'Y': 163.06333}"
      ]
     },
     "execution_count": 6,
     "metadata": {},
     "output_type": "execute_result"
    }
   ],
   "source": [
    "aa"
   ]
  },
  {
   "cell_type": "code",
   "execution_count": 9,
   "id": "41c19a78",
   "metadata": {},
   "outputs": [
    {
     "name": "stdout",
     "output_type": "stream",
     "text": [
      "DESRTCTLFAYGTRDINCSPAQGRGGECRYDCRIGGMPDYETQSEPVANARSDEYSDTYGKGESHKKYSWDNAYPMLMVPRMGMDLFRIFFDPAKLQESSFPHQQHDKLRDDKLDLMQVSNNMCNTMDDMHCHSCIHLMNNARDRFCCGERTDPFFRGHNGKCTRNIKNGRAFGINKEPAADWKAVYHQKVHIAPGMHTKSLQMWDLRQAGSVNDQFEQWRDVDKLQCSRVPRWYDVKYFNQGSPLSVPDNPGQKQGDFYGWWGFMGEHGVLFICGTFLPNYVGSDLLCHIKYWKYDGPQNRCLYPEGYPHFECDGCCHHPHKLFMTKVGNHVQKEHRFVQYLWCFTVNKNCNVSVSHIMLCPHAKMYRLQVTFMCSCGTSWSTWLMNLYDLSTIMVIVDYFAKNQKVCNCEYAGSVSACIYLRSICKALDCKNIFEPMHAETGCNPCGHNHHIPVNTTSSKCSTPRAWFMIFEHNSDQYEILKCENLSGTDESWITNGNDAQYNIWRQQMDKTEIHRSGNCYETVMRKNAKSTHQCFTMYEYEMNCTYDGYWGIRSAAWIGLYSKCHWWILRDKKRYSQFEMLFLRYFHVYYGFWRMVVVGYEPKQDEKEIWVQCARSDLIVCNKMWDSYGYGCHIFCASPILHTHIPIGNDYWWLDTYDSDGHFACDQHVWERHCDTMHCQTQVIMDKMYVPRFMNHCSKEDREQIFFTINVKAPRLRGEVRTHRRFEYQYNENDGAESYNPACHEVFNRALWESAELQSSIACNDDARWSGQFACLKICNHNHRYNIGDVSHHLENAELNWHEWGSEENEWEEHYCSIGHFKTLYHWCQMCFKQFRTNDRFMLQCCHVQTDRTTKIVDRSDKGKTQQRWQNITRHRDCWTKMSLYVNYKHMYDYPWCNARVCNDQEGIISAYVVMYWPGIRFTPSYCQSMLSCIWSNESPPRDHIMVTQQDYASKEQPVGPRQAQQNGIDKMGGPPNFVRKCGGPHTCQ\n",
      "116765.8385400005\n"
     ]
    }
   ],
   "source": [
    "ii=input()\n",
    "res=0\n",
    "\n",
    "for w in ii :\n",
    "    res+=aa[w]\n",
    "    \n",
    "print(res)"
   ]
  },
  {
   "cell_type": "code",
   "execution_count": null,
   "id": "1a6c8585",
   "metadata": {},
   "outputs": [],
   "source": []
  },
  {
   "cell_type": "code",
   "execution_count": null,
   "id": "d7397f6e",
   "metadata": {},
   "outputs": [],
   "source": []
  },
  {
   "cell_type": "code",
   "execution_count": null,
   "id": "0a8a4916",
   "metadata": {},
   "outputs": [],
   "source": []
  },
  {
   "cell_type": "code",
   "execution_count": null,
   "id": "48cc53cb",
   "metadata": {},
   "outputs": [],
   "source": []
  },
  {
   "cell_type": "code",
   "execution_count": null,
   "id": "e2dfe11b",
   "metadata": {},
   "outputs": [],
   "source": []
  },
  {
   "cell_type": "code",
   "execution_count": null,
   "id": "6567ac82",
   "metadata": {},
   "outputs": [],
   "source": []
  },
  {
   "cell_type": "code",
   "execution_count": null,
   "id": "f15c3c30",
   "metadata": {},
   "outputs": [],
   "source": []
  }
 ],
 "metadata": {
  "kernelspec": {
   "display_name": "Python 3 (ipykernel)",
   "language": "python",
   "name": "python3"
  },
  "language_info": {
   "codemirror_mode": {
    "name": "ipython",
    "version": 3
   },
   "file_extension": ".py",
   "mimetype": "text/x-python",
   "name": "python",
   "nbconvert_exporter": "python",
   "pygments_lexer": "ipython3",
   "version": "3.8.16"
  }
 },
 "nbformat": 4,
 "nbformat_minor": 5
}
