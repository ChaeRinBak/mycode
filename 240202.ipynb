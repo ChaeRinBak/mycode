{
 "cells": [
  {
   "cell_type": "code",
   "execution_count": 72,
   "id": "8065e903",
   "metadata": {
    "scrolled": true
   },
   "outputs": [],
   "source": [
    "path=\"C:\\\\Users\\\\cofls\\\\Downloads\\\\\"\n",
    "name=\"rosalind_subs.txt\"\n",
    "\n",
    "ff=open(path+name,\"r\")\n",
    "s1=ff.readline().strip()\n",
    "s2=ff.readline().strip()\n",
    "ff.close()"
   ]
  },
  {
   "cell_type": "code",
   "execution_count": 73,
   "id": "b7df616b",
   "metadata": {
    "collapsed": true
   },
   "outputs": [
    {
     "data": {
      "text/plain": [
       "'TCGGCAGTCCGGCTAATTCCGGCTTATGGTCCGGCTTCCGGCTTATGTTCCGGCTTCCGGCTTCCGGCTGATCCGGCTTTCCGGCTTTGGTTATCCGGCTCATTCCGGCTCGTCCGGCTTCTCCGGCTGGGGGTCCGGCTATCCGGCTTCCGGCTCACTCCGGCTTTGTTCCGGCTCATCCGGCTTCCGGCTACTTCCGGCTTGTCCGGCTTCCGGCTTCTTCCGGCTAGATCCGGCTTCCGGCTTAAGGTCTATCCGGCTGCATATCCGGCTTTCCGGCTTCCGGCTATCCGGCTGCTCTCCGGCTCTCCGGCTTTCCGGCTGTTCCGGCTGTCCGGCTTCCGGCTTGATCCGGCTGGGCCTATCCGGCTTCCGGCTTCCGGCTTCCGGCTATCCGGCTTCCGGCTGCTCCGGCTCTCCGGCTCTCCGGCTCCGCCTCCGGCTTATCTCCGGCTCGTTCCGGCTAATCCGGCTGACTCCGGCTGGGGCCTGAGTCCGGCTCATCCGGCTGATGATCCGGCTTTGTCCGGCTTCCGGCTACTGATCCGGCTTCCGGCTGGCTCCTCCGGCTTTCCGGCTTCCGGCTGAAGGTGATACCCCAATTCCGGCTAGCGGTGTCCGGCTTCCGGCTCTCCGGCTACCCCTTTCCGGCTTTGAGCTTCCGGCTCTCCGGCTTCCGGCTTCCGGCTATCCGGCTTCCGGCTTCCGGCTTCCGGCTGCGCTCCGGCTAAATGCCATCGAAGTCCGGCTAGTTTCCGGCTTCCGGCTTTCGGGTGTCCGGCTTCCGGCTTCCGGCTTCCGGCTATAGCCATTGTCCGGCTTCCGGCTTCGTCCGGCTGTCCGGCTTTCCGGCTTTCCGGCTTCCGGCTGAATAAATCCGGCTGATATCCGGCT'"
      ]
     },
     "execution_count": 73,
     "metadata": {},
     "output_type": "execute_result"
    }
   ],
   "source": [
    "s1"
   ]
  },
  {
   "cell_type": "code",
   "execution_count": 74,
   "id": "c0052327",
   "metadata": {
    "collapsed": true
   },
   "outputs": [
    {
     "data": {
      "text/plain": [
       "'TCCGGCTTC'"
      ]
     },
     "execution_count": 74,
     "metadata": {},
     "output_type": "execute_result"
    }
   ],
   "source": [
    "s2"
   ]
  },
  {
   "cell_type": "code",
   "execution_count": 75,
   "id": "dab0d1ac",
   "metadata": {
    "scrolled": true
   },
   "outputs": [],
   "source": [
    "#s1=\"\"\"GATATATGCATATACTT\"\"\"\n",
    "#s2=\"\"\"ATAT\"\"\"\n",
    "\n",
    "res=[]\n",
    "ress=\"\"\n",
    "\n",
    "for i in range(len(s1)) :\n",
    "    sc=s1[i:i+len(s2)]\n",
    "    if sc==s2 :\n",
    "        res.append(i+1)\n",
    "    \n",
    "st=0\n",
    "for y in res :\n",
    "    if st==0 :\n",
    "        ress+=str(y)\n",
    "        st=1\n",
    "    else :\n",
    "        ress+=\" \"+str(y)\n",
    "        "
   ]
  },
  {
   "cell_type": "code",
   "execution_count": 76,
   "id": "3ed1caed",
   "metadata": {},
   "outputs": [
    {
     "data": {
      "text/plain": [
       "'30 49 56 113 142 179 205 212 232 275 334 365 372 379 394 526 545 573 618 669 676 691 698 705 755 777 784 791 815 822 856'"
      ]
     },
     "execution_count": 76,
     "metadata": {},
     "output_type": "execute_result"
    }
   ],
   "source": [
    "ress"
   ]
  },
  {
   "cell_type": "code",
   "execution_count": 77,
   "id": "d7e43aa9",
   "metadata": {},
   "outputs": [],
   "source": [
    "f=open(\"240202_result.txt\",\"w\")\n",
    "f.write(ress)\n",
    "f.close()"
   ]
  },
  {
   "cell_type": "code",
   "execution_count": null,
   "id": "522bae25",
   "metadata": {},
   "outputs": [],
   "source": []
  }
 ],
 "metadata": {
  "kernelspec": {
   "display_name": "Python 3 (ipykernel)",
   "language": "python",
   "name": "python3"
  },
  "language_info": {
   "codemirror_mode": {
    "name": "ipython",
    "version": 3
   },
   "file_extension": ".py",
   "mimetype": "text/x-python",
   "name": "python",
   "nbconvert_exporter": "python",
   "pygments_lexer": "ipython3",
   "version": "3.8.16"
  }
 },
 "nbformat": 4,
 "nbformat_minor": 5
}
