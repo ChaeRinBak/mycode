{
 "cells": [
  {
   "cell_type": "code",
   "execution_count": 182,
   "id": "fb9bdbca",
   "metadata": {},
   "outputs": [],
   "source": [
    "#f=open(\"C:\\\\Users\\\\cofls\\\\Downloads\\\\testtest.txt\",\"r\")\n",
    "f=open(\"C:\\\\Users\\\\cofls\\\\Downloads\\\\rosalind_lcsm.txt\",\"r\")\n",
    "\n",
    "datas=[]\n",
    "names=[]\n",
    "\n",
    "tempdata=''\n",
    "for i in f.readlines() :\n",
    "    if \">\" not in i :\n",
    "        tempdata+=i.strip()\n",
    "    else :\n",
    "        datas.append(tempdata)\n",
    "        tempdata=''\n",
    "        names.append(i.strip().strip(\">\"))\n",
    "datas.append(tempdata)\n",
    "tempdata=''\n",
    "del datas[0]\n",
    "\n",
    "f.close()"
   ]
  },
  {
   "cell_type": "code",
   "execution_count": 183,
   "id": "c55a3a1f",
   "metadata": {},
   "outputs": [
    {
     "data": {
      "text/plain": [
       "100"
      ]
     },
     "execution_count": 183,
     "metadata": {},
     "output_type": "execute_result"
    }
   ],
   "source": [
    "len(names)"
   ]
  },
  {
   "cell_type": "code",
   "execution_count": 184,
   "id": "aa8d22c8",
   "metadata": {},
   "outputs": [
    {
     "ename": "KeyboardInterrupt",
     "evalue": "",
     "output_type": "error",
     "traceback": [
      "\u001b[1;31m---------------------------------------------------------------------------\u001b[0m",
      "\u001b[1;31mKeyboardInterrupt\u001b[0m                         Traceback (most recent call last)",
      "Cell \u001b[1;32mIn[184], line 13\u001b[0m\n\u001b[0;32m     11\u001b[0m \u001b[38;5;28;01mif\u001b[39;00m datas[a][c]\u001b[38;5;241m==\u001b[39mdatas[b][d] :\n\u001b[0;32m     12\u001b[0m     tempcd\u001b[38;5;241m+\u001b[39m\u001b[38;5;241m=\u001b[39mdatas[a][c]\n\u001b[1;32m---> 13\u001b[0m     t1\u001b[38;5;241m=\u001b[39mdatas[a][c\u001b[38;5;241m+\u001b[39m\u001b[38;5;241m1\u001b[39m:]\n\u001b[0;32m     14\u001b[0m     t2\u001b[38;5;241m=\u001b[39mdatas[b][d\u001b[38;5;241m+\u001b[39m\u001b[38;5;241m1\u001b[39m:]\n\u001b[0;32m     16\u001b[0m     \u001b[38;5;28;01mfor\u001b[39;00m cc \u001b[38;5;129;01min\u001b[39;00m \u001b[38;5;28mrange\u001b[39m(\u001b[38;5;28mlen\u001b[39m(\u001b[38;5;28mmin\u001b[39m(t1,t2))) :\n\u001b[0;32m     17\u001b[0m         \u001b[38;5;66;03m#print(t1)\u001b[39;00m\n\u001b[0;32m     18\u001b[0m         \u001b[38;5;66;03m#print(t2)\u001b[39;00m\n",
      "\u001b[1;31mKeyboardInterrupt\u001b[0m: "
     ]
    }
   ],
   "source": [
    "res=[]\n",
    "cdlist=[]\n",
    "tempcd=''\n",
    "\n",
    "for a in range(len(datas)) :\n",
    "    for b in range(a+1,len(datas)) :\n",
    "        #print(names[a],names[b])\n",
    "        \n",
    "        for c in range(len(datas[a])) :\n",
    "            for d in range(len(datas[b])) :\n",
    "                if datas[a][c]==datas[b][d] :\n",
    "                    tempcd+=datas[a][c]\n",
    "                    t1=datas[a][c+1:]\n",
    "                    t2=datas[b][d+1:]\n",
    "                    \n",
    "                    for cc in range(len(min(t1,t2))) :\n",
    "                        #print(t1)\n",
    "                        #print(t2)\n",
    "                        if t1[cc]==t2[cc] :\n",
    "                            tempcd+=t1[cc]\n",
    "                        else :\n",
    "                            break\n",
    "\n",
    "                elif not tempcd==\"\" :\n",
    "                    cdlist.append(tempcd)\n",
    "                    tempcd=''"
   ]
  },
  {
   "cell_type": "code",
   "execution_count": 176,
   "id": "9ee2a66b",
   "metadata": {},
   "outputs": [],
   "source": [
    "#cdlist"
   ]
  },
  {
   "cell_type": "code",
   "execution_count": 177,
   "id": "7f36b63d",
   "metadata": {},
   "outputs": [],
   "source": [
    "res=[]\n",
    "for y in cdlist :\n",
    "    if y not in res :\n",
    "        res.append(y)\n",
    "\n",
    "#print(res)\n",
    "cdlist=res.copy()"
   ]
  },
  {
   "cell_type": "code",
   "execution_count": 178,
   "id": "7e06a333",
   "metadata": {},
   "outputs": [],
   "source": [
    "for x in range(len(cdlist)) :\n",
    "    #print(x)\n",
    "    #print(\"x: \",cdlist[x])\n",
    "    for nts in datas :\n",
    "        #print(\"nts: \",nts)\n",
    "        if cdlist[x] not in nts :\n",
    "            #print(\"del x: \",cdlist[x])\n",
    "            del res[res.index(cdlist[x])]\n",
    "            break"
   ]
  },
  {
   "cell_type": "code",
   "execution_count": 179,
   "id": "b5f6a79a",
   "metadata": {},
   "outputs": [
    {
     "data": {
      "text/plain": [
       "['GA', 'A', 'AT', 'TA', 'AC', 'CCA', 'T', 'TACA', 'ACA', 'CA', 'C']"
      ]
     },
     "execution_count": 179,
     "metadata": {},
     "output_type": "execute_result"
    }
   ],
   "source": [
    "cdlist"
   ]
  },
  {
   "cell_type": "code",
   "execution_count": 180,
   "id": "c5034444",
   "metadata": {},
   "outputs": [
    {
     "data": {
      "text/plain": [
       "['A', 'TA', 'AC', 'T', 'CA', 'C']"
      ]
     },
     "execution_count": 180,
     "metadata": {},
     "output_type": "execute_result"
    }
   ],
   "source": [
    "res"
   ]
  },
  {
   "cell_type": "code",
   "execution_count": 181,
   "id": "741043eb",
   "metadata": {},
   "outputs": [
    {
     "name": "stdout",
     "output_type": "stream",
     "text": [
      "['TA', 'AC', 'CA']\n"
     ]
    }
   ],
   "source": [
    "resl=[]\n",
    "for r in res :\n",
    "    resl.append(len(r))\n",
    "m=max(resl)\n",
    "\n",
    "rres=[]\n",
    "for rr in res :\n",
    "    if len(rr)==m :\n",
    "        rres.append(rr)\n",
    "    \n",
    "print(rres)"
   ]
  },
  {
   "cell_type": "code",
   "execution_count": null,
   "id": "b7b140c6",
   "metadata": {},
   "outputs": [],
   "source": []
  }
 ],
 "metadata": {
  "kernelspec": {
   "display_name": "Python 3 (ipykernel)",
   "language": "python",
   "name": "python3"
  },
  "language_info": {
   "codemirror_mode": {
    "name": "ipython",
    "version": 3
   },
   "file_extension": ".py",
   "mimetype": "text/x-python",
   "name": "python",
   "nbconvert_exporter": "python",
   "pygments_lexer": "ipython3",
   "version": "3.8.16"
  }
 },
 "nbformat": 4,
 "nbformat_minor": 5
}
