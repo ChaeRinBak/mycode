{
 "cells": [
  {
   "cell_type": "code",
   "execution_count": 222,
   "id": "706b905f",
   "metadata": {},
   "outputs": [],
   "source": [
    "f=open(\"C:\\\\Users\\\\cofls\\\\Downloads\\\\testtest.txt\",\"r\")\n",
    "#f=open(\"C:\\\\Users\\\\cofls\\\\Downloads\\\\rosalind_revp.txt\",\"r\")\n",
    "\n",
    "datas=[]\n",
    "names=[]\n",
    "\n",
    "tempdata=''\n",
    "for i in f.readlines() :\n",
    "    if \">\" not in i :\n",
    "        tempdata+=i.strip()\n",
    "    else :\n",
    "        datas.append(tempdata)\n",
    "        tempdata=''\n",
    "        names.append(i.strip().strip(\">\"))\n",
    "datas.append(tempdata)\n",
    "tempdata=''\n",
    "del datas[0]\n",
    "\n",
    "f.close()"
   ]
  },
  {
   "cell_type": "code",
   "execution_count": 223,
   "id": "d6f6d8bc",
   "metadata": {},
   "outputs": [],
   "source": [
    "def makerepal(s) :\n",
    "    s=s.replace(\"A\",\"aa\").replace(\"G\",\"gg\").replace(\"T\",\"tt\").replace(\"C\",\"cc\")\n",
    "    s=s.replace(\"aa\",\"T\").replace(\"gg\",\"C\").replace(\"tt\",\"A\").replace(\"cc\",\"G\")\n",
    "    return s"
   ]
  },
  {
   "cell_type": "code",
   "execution_count": 224,
   "id": "004dd24e",
   "metadata": {},
   "outputs": [],
   "source": [
    "forward=datas[0]\n",
    "\n",
    "reverse=datas[0][::-1]\n",
    "reverse=makerepal(reverse)"
   ]
  },
  {
   "cell_type": "code",
   "execution_count": 230,
   "id": "6196ca87",
   "metadata": {
    "scrolled": true
   },
   "outputs": [
    {
     "data": {
      "text/plain": [
       "'TCAATGCATGCGGGTCTATATGCAT'"
      ]
     },
     "execution_count": 230,
     "metadata": {},
     "output_type": "execute_result"
    }
   ],
   "source": [
    "forward"
   ]
  },
  {
   "cell_type": "code",
   "execution_count": 231,
   "id": "9109cb3a",
   "metadata": {},
   "outputs": [
    {
     "data": {
      "text/plain": [
       "'ATGCATATAGACCCGCATGCATTGA'"
      ]
     },
     "execution_count": 231,
     "metadata": {},
     "output_type": "execute_result"
    }
   ],
   "source": [
    "reverse"
   ]
  },
  {
   "cell_type": "code",
   "execution_count": 225,
   "id": "11bb33f9",
   "metadata": {},
   "outputs": [],
   "source": [
    "cdlist=[]\n",
    "minl=4\n",
    "maxl=12\n",
    "\n",
    "for j in range(minl,maxl+1) :\n",
    "    for i in range(0,len(forward)) :\n",
    "        cdlist.append(forward[i:i+j])\n",
    "\n",
    "cdlist=set(cdlist)\n",
    "cdlist=list(cdlist)\n",
    "        \n",
    "cdcd=[]\n",
    "for c in cdlist :\n",
    "    if (len(c)>=minl) and (c in reverse) :\n",
    "        cdcd.append(c)"
   ]
  },
  {
   "cell_type": "code",
   "execution_count": 228,
   "id": "fe2e65a6",
   "metadata": {},
   "outputs": [],
   "source": [
    "res=[]\n",
    "\n",
    "for d in cdcd :\n",
    "    for r in range(len(reverse)) :\n",
    "        #print(d, reverse[r:r+len(d)])\n",
    "        if r+len(d)>len(reverse) :\n",
    "            break\n",
    "        if d==reverse[r:r+len(d)] and d==reverse[r:r+len(d)//2]+makerepal(reverse[r:r+len(d)//2][::-1]) :\n",
    "            #print(reverse[r:r+len(d)],len(reverse)-r-len(d)+1)\n",
    "            res.append(str(len(reverse)-r-len(d)+1)+\" \"+str(len(d)))"
   ]
  },
  {
   "cell_type": "code",
   "execution_count": 229,
   "id": "0c81e7c8",
   "metadata": {},
   "outputs": [
    {
     "name": "stdout",
     "output_type": "stream",
     "text": [
      "17 4\n",
      "18 4\n",
      "20 6\n",
      "4 6\n",
      "21 4\n",
      "5 4\n",
      "6 6\n",
      "7 4\n"
     ]
    }
   ],
   "source": [
    "for m in res :\n",
    "    print(m)"
   ]
  },
  {
   "cell_type": "code",
   "execution_count": null,
   "id": "f6ffbce8",
   "metadata": {},
   "outputs": [],
   "source": []
  },
  {
   "cell_type": "code",
   "execution_count": null,
   "id": "834e425d",
   "metadata": {},
   "outputs": [],
   "source": []
  },
  {
   "cell_type": "code",
   "execution_count": null,
   "id": "8e8da427",
   "metadata": {},
   "outputs": [],
   "source": []
  },
  {
   "cell_type": "code",
   "execution_count": null,
   "id": "cf75cc48",
   "metadata": {},
   "outputs": [],
   "source": []
  },
  {
   "cell_type": "code",
   "execution_count": null,
   "id": "acbcf8ef",
   "metadata": {},
   "outputs": [],
   "source": []
  }
 ],
 "metadata": {
  "kernelspec": {
   "display_name": "Python 3 (ipykernel)",
   "language": "python",
   "name": "python3"
  },
  "language_info": {
   "codemirror_mode": {
    "name": "ipython",
    "version": 3
   },
   "file_extension": ".py",
   "mimetype": "text/x-python",
   "name": "python",
   "nbconvert_exporter": "python",
   "pygments_lexer": "ipython3",
   "version": "3.8.16"
  }
 },
 "nbformat": 4,
 "nbformat_minor": 5
}
